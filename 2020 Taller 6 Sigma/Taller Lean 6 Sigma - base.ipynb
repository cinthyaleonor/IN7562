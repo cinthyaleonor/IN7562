{
 "cells": [
  {
   "cell_type": "markdown",
   "metadata": {
    "slideshow": {
     "slide_type": "slide"
    }
   },
   "source": [
    "\n",
    "<hr style=\"border:2px solid cadetblue\"> </hr>\n",
    "<center>\n",
    "  <font color=cadetblue> <H1>  Taller de Lean Six Sigma<br> </H1> </font> \n",
    "  <font color=crimson>Desarrollado por Cinthya Leonor con &lt;3 y &#x1f40d; Python <br>  </font> \n",
    "  <font color=crimson>cvergara@uchile.cl - joco.cl   </font>  \n",
    "</center>\n",
    "<hr style=\"border:2px solid cadetblue\"> </hr> \n",
    "\n",
    "  <center> <font color=cadetblue> Magíster en Ingeniería de Negocios con Tecnologías de Información </font> </center>  \n",
    "         <center>    <font color=cadetblue> Departamento Ingeniería Industrial </font>   </center>\n",
    "                  <center>    <font color=cadetblue> Universidad de Chile </font>   </center>\n",
    "\n",
    "\n"
   ]
  },
  {
   "cell_type": "markdown",
   "metadata": {
    "slideshow": {
     "slide_type": "slide"
    }
   },
   "source": [
    "# Lean Six Sigma : el inicio $\\dots$\n",
    "<font size=\"5\">\n",
    "<ul>\n",
    "    <li> El concepto de Lean Six Sigma se publicó por primera vez en 2002 en el libro de Michael George y Peter Vincent Lean Six Sigma: Combinando Six Sigma con Lean Speed.\n",
    "    <li> Se basa en que las actividades que generan criticidad de calidad para el cliente y las que producen los mayores retrasos en un proceso, ofrecen oportunidades para mejorar en costo, calidad, capital y tiempos de entrega, \n",
    "    <li> La metodología incluye fases para eliminar el desperdicio (Lean) y las herramients de Six Sigma para gestión de calidad \n",
    "</ul>\n",
    "\n",
    "</font>"
   ]
  },
  {
   "cell_type": "markdown",
   "metadata": {
    "slideshow": {
     "slide_type": "subslide"
    }
   },
   "source": [
    "#  Lean Six Sigma : Definición General\n",
    "\n",
    "|**Lean**  | **Six Sigma**  |\n",
    "| :--------| :--------------|\n",
    "|Es una metodología que se enfoca en eliminar actividades innecesarias que no generan valor durante la creación de un producto o servicio, quedándose con el flujo de procesos óptimo, completo, racionalizado y eficaz que logre satisfacer a cada cliente. |Es una metodología de mejora continua que busca calidad a través de la reducción de defectos en cada proceso para reducir costos e incrementar la satisfacción de los clientes. Six Sigma se enfoca en reducir la variación de los procesos para no generar más de 3.4 defectos por millón. |\n",
    "\n",
    "**tl;dr : Reducir Desperdicios + Evitar Errores = LEAN 6 Sigma**\n"
   ]
  },
  {
   "cell_type": "markdown",
   "metadata": {
    "slideshow": {
     "slide_type": "subslide"
    }
   },
   "source": [
    "# Lean Six Sigma : DMAIC (1)\n",
    "Metodología  para Mejora de Procesos (Process Improvement)\n",
    "\n",
    "| ID| Phase   | Etapa    | Descripción                                                                           |\n",
    "|:-:|:-------:|:--------:|:--------------------------------------------------------------------------------------|\n",
    "| D | Define  | Definir  | Análisis completo de la empresa |\n",
    "| M | Measure | Medir    | Establecer el rendimiento del proceso actual (base line)|\n",
    "| A | Analyze | Analizar | Diagnosticar y confirmar los determinantes del rendimiento del proceso |\n",
    "| I | Improve | Mejorar  | Determinar la relación causa-efecto |\n",
    "| C | Control | Controlar|  Diseñar y documentar los controles necesarios para asegurar efectividad de los cambios|\n",
    "\n"
   ]
  },
  {
   "cell_type": "markdown",
   "metadata": {
    "slideshow": {
     "slide_type": "subslide"
    }
   },
   "source": [
    "# Lean Six Sigma : DMAIC (2) \n",
    "\n",
    "| Actividades                                              |  Herramientas\n",
    "| :--------------------------------------------------------|:---------------------------------------------------------|\n",
    "| - Revisar la Carta del Proyecto                          | - Project Charter, Voice of the Customer                 |\n",
    "| - Validar la declaración del problema y los objetivos    | - Mapa SIPOC, Análisis Kano                              |\n",
    "| - Validar la voz del cliente y la voz de la empresa      | - Project Valuation/ROIC Analysis Tools                  |\n",
    "| - Validar beneficios financieros                         | - Matriz RACI y Gráficos de Cuadrantes                   |\n",
    "| - Validar  el Mapa de flujo de valor y el alcance        | - Análisis de Stakeholder , Análisis de Belbin           |         \n",
    "| - Crear plan de comunicación                             | - Time Lines, Milestones, Carta Gantt                    |\n",
    "| - Seleccionar al equipo                                  | - Análisis de Pareto                                     |\n",
    "| - Desarrollar cronograma del proyecto                    | - Effective Meeting Tools                                |\n",
    "| - Desarrollar el plan de recoleción de datos             | - 5 Por qué , Ishikawa   \n",
    "\n"
   ]
  },
  {
   "cell_type": "markdown",
   "metadata": {
    "slideshow": {
     "slide_type": "slide"
    }
   },
   "source": [
    "\n",
    "\n",
    "<hr style=\"border:2px solid cadetblue\"> </hr>\n",
    "<center>\n",
    "\n",
    " # <font color=crimson> Caso Restaurante La Glotontena </font> \n",
    " \n",
    "</center>\n",
    "<hr style=\"border:2px solid cadetblue\"> </hr> \n",
    "\n",
    "<div class=\"alert alert-block alert-info\">\n",
    "<b>Descripción:</b> La Glotontena es un restaurante del alto nivel que frente a una <i>nueva normalidad</i> se propuso entregar felicidad a través de menus para crear ocasiones especiales en tu propia hogar. Los pedidos se hacen a través de una aplicación web para ordenadores y equipos móviles.\n",
    "</div>\n",
    "\n"
   ]
  },
  {
   "cell_type": "markdown",
   "metadata": {
    "slideshow": {
     "slide_type": "subslide"
    }
   },
   "source": [
    "## (D)efinir - Conceptos clave\n",
    "- **Tiempo de despacho:** tiempo total del ciclo desde que el cliente realiza su pedido hasta el momento en que recibe su comida.\n",
    "- **Clientes:** personas en cuarentena malas para cocinar.\n",
    "- **Proceso Magia del Chef:** mise en place del pedido en recipientes para llevar, selección de utensilios, servilletas y aliños y empaque.\n",
    "- **Calificación:** nota del usuario al servicio recibido.\n",
    "\n",
    " **Critical to Quality (CTQ)**: Tiempo de despacho"
   ]
  },
  {
   "cell_type": "markdown",
   "metadata": {
    "slideshow": {
     "slide_type": "subslide"
    }
   },
   "source": [
    "# # (D)efinir - Project Charter (1)\n",
    "## Tiempo de Ciclo de la entrega de una orden\n",
    "\n",
    "|          |                                                                                      |   \n",
    "|:---------|:-------------------------------------------------------------------------------------|\n",
    "| Problema | La entrega actual es en promedio de 46 min. Esto genera gran molestia en los clientes|\n",
    "| Declaración de Objetivo | Reducir el tiempo de entrega promedio de 46 a 30 min. en 1 mes |\n",
    "| Alcance |  Proceso de entrega |\n",
    "| Beneficios | Experiencia del cliente satisfecha, fidelidad y aumento de ingresos | \n",
    "| Timeline | 21 de Mayo - 2 de Junio |"
   ]
  },
  {
   "cell_type": "markdown",
   "metadata": {
    "slideshow": {
     "slide_type": "subslide"
    }
   },
   "source": [
    "# # (D)efinir - Project Charter (2)\n",
    "## Tiempo de Ciclo de la entrega de una orden\n",
    "\n",
    "| Posición     | Función         | % Dedicación |\n",
    "|:-------------|:----------------|:-------------|\n",
    "|Team Leader   | Black Belt      |  30% |\n",
    "|Sponsor       | Manager         |  10% |\n",
    "|Team Member 1 | Chef            |  30% |\n",
    "|Team Member 2 | Chef de partie  |  30% |\n"
   ]
  },
  {
   "cell_type": "markdown",
   "metadata": {
    "slideshow": {
     "slide_type": "subslide"
    }
   },
   "source": [
    "# (D)efinir - Voice of the customer Transition Matrix\n",
    " \n",
    "| Comentario de Clientes                                                                \t| Profundizar                   \t| Requerimiento del Cliente                      \t|\n",
    "|:--------------------------------------------------------------------------------------\t|:------------------------------\t|:----------------------------------------------\t|\n",
    "| (What are they saying)                                                                  \t| (What are they saying it)       \t| (What do they want)                              \t|\n",
    "| Queríamos algo especial y la comida llegó cuando empezó otra de mis reuniones en zoom \t| Entrega tardía                \t| Entrega en menos de 30 min.                    \t|\n",
    "| Entramos al sitio y no funciona la compra                                             \t| Pago en línea muestra fallos  \t| Up-time 100% en horios de atención             \t|\n",
    "| Las porciones nos dejaron con hambre                                                  \t| Porción insuficiente          \t| Platos deben contener 2500 calorías            \t|\n",
    "| No quedaba del plato que tenía antojado                                               \t| Menú debería estar disponible \t| Disponibilidad de Menú regular 100% del tiempo \t|\n"
   ]
  },
  {
   "cell_type": "markdown",
   "metadata": {
    "slideshow": {
     "slide_type": "subslide"
    }
   },
   "source": [
    "# (D)efinir - SIPOC \n",
    "\n",
    "| S                     | I                    | P       | O               | C               |\n",
    "|:----------------------|:---------------------|:--------|:----------------|:----------------|\n",
    "| Supplier              | Inputs               | Process | Outputs         | Customers       | \n",
    "| Proveedor envases     | materiales de empaque| AS-IS   | Orden entregada | En cuarentenados| \n",
    "| Proveedor ingredientes| ingredientes         |         |                 |                 | \n",
    "\n",
    "- Requerimientos del proceso : Menú disponible en la aplicación\n",
    "- Requerimientos del cliente : Entrega en menos de 40 minutos ; Disponibilidad del menú; Pago en línea\n"
   ]
  },
  {
   "cell_type": "markdown",
   "metadata": {
    "slideshow": {
     "slide_type": "subslide"
    }
   },
   "source": [
    "# (D)efinir - Proceso AS-IS\n",
    "\n",
    "\n",
    "<a href=\"https://github.com/cinthyaleonor/IN7562/blob/master/2020%20Taller%206%20Sigma/\">\n",
    "  <img src=\"Glotontena%20ASIS.png\" alt=\"GLotoena AS-IS\">\n",
    "</a>"
   ]
  },
  {
   "cell_type": "markdown",
   "metadata": {
    "slideshow": {
     "slide_type": "slide"
    }
   },
   "source": [
    "## (M)edir-  Selección de datos\n",
    "|Campo     |  Descripción                                                  | Tipo            |\n",
    "|:---------|:--------------------------------------------------------------|:----------------|\n",
    "|id_pedido | identificador único de orden del pedido                       |varchar          | \n",
    "|fecha     | fecha del pedido (dd-mm-yyyy)                                 |date             |     \n",
    "|menu      | el menú seleccionado                                          |text             |\n",
    "|monto     | monto de la orden                                             |int              |\n",
    "|calificacion  | puntaje de 1 a 5 calificación del pedido                  |float            |\n",
    "|t_preparacion | tiempo que toma generar la orden                          |float            |\n",
    "|t_despacho    | tiempo total que se demora la entrega al cliente (CTQ)    |float            |\n",
    "|estado_transaccion | 1 si la orden terminó con éxito, 0 en otro caso      |int              |                           "
   ]
  },
  {
   "cell_type": "markdown",
   "metadata": {
    "slideshow": {
     "slide_type": "subslide"
    }
   },
   "source": [
    "# (M)edir - Herramientas para análisis de datos"
   ]
  },
  {
   "cell_type": "code",
   "execution_count": 7,
   "metadata": {
    "slideshow": {
     "slide_type": "fragment"
    }
   },
   "outputs": [],
   "source": [
    "# Importamos las librerías esenciales\n",
    "import matplotlib.pyplot as plt \n",
    "import numpy as np \n",
    "import pandas as pd \n",
    "import seaborn as sns\n",
    "sns.set_palette(sns.diverging_palette(10, 220, sep=80, n=7))\n",
    "\n",
    "#Obtenemos los datos\n",
    "df =  pd.read_csv(\"https://raw.githubusercontent.com/cinthyaleonor/IN7562/master/2020%20Taller%206%20Sigma/data_glotontena.csv\", sep =\";\")\n",
    "df['fecha'] = pd.to_datetime(df['fecha'], format='%d-%m-%Y')"
   ]
  },
  {
   "cell_type": "markdown",
   "metadata": {
    "slideshow": {
     "slide_type": "subslide"
    }
   },
   "source": [
    "# (M)edir - Descriptivos"
   ]
  },
  {
   "cell_type": "code",
   "execution_count": 8,
   "metadata": {
    "slideshow": {
     "slide_type": "fragment"
    }
   },
   "outputs": [
    {
     "data": {
      "text/html": [
       "<div>\n",
       "<style scoped>\n",
       "    .dataframe tbody tr th:only-of-type {\n",
       "        vertical-align: middle;\n",
       "    }\n",
       "\n",
       "    .dataframe tbody tr th {\n",
       "        vertical-align: top;\n",
       "    }\n",
       "\n",
       "    .dataframe thead th {\n",
       "        text-align: right;\n",
       "    }\n",
       "</style>\n",
       "<table border=\"1\" class=\"dataframe\">\n",
       "  <thead>\n",
       "    <tr style=\"text-align: right;\">\n",
       "      <th></th>\n",
       "      <th>count</th>\n",
       "      <th>mean</th>\n",
       "      <th>std</th>\n",
       "      <th>min</th>\n",
       "      <th>25%</th>\n",
       "      <th>50%</th>\n",
       "      <th>75%</th>\n",
       "      <th>max</th>\n",
       "    </tr>\n",
       "  </thead>\n",
       "  <tbody>\n",
       "    <tr>\n",
       "      <th>monto</th>\n",
       "      <td>9131.0</td>\n",
       "      <td>17140.0</td>\n",
       "      <td>10643.4</td>\n",
       "      <td>3350.0</td>\n",
       "      <td>11329.5</td>\n",
       "      <td>15407.0</td>\n",
       "      <td>19066.0</td>\n",
       "      <td>159530.0</td>\n",
       "    </tr>\n",
       "    <tr>\n",
       "      <th>calificacion</th>\n",
       "      <td>9131.0</td>\n",
       "      <td>3.6</td>\n",
       "      <td>0.4</td>\n",
       "      <td>2.1</td>\n",
       "      <td>3.3</td>\n",
       "      <td>3.6</td>\n",
       "      <td>3.9</td>\n",
       "      <td>4.9</td>\n",
       "    </tr>\n",
       "    <tr>\n",
       "      <th>t_despacho</th>\n",
       "      <td>9131.0</td>\n",
       "      <td>52.0</td>\n",
       "      <td>16.9</td>\n",
       "      <td>25.0</td>\n",
       "      <td>37.6</td>\n",
       "      <td>50.2</td>\n",
       "      <td>64.7</td>\n",
       "      <td>90.0</td>\n",
       "    </tr>\n",
       "    <tr>\n",
       "      <th>t_preparacion</th>\n",
       "      <td>9131.0</td>\n",
       "      <td>16.0</td>\n",
       "      <td>2.3</td>\n",
       "      <td>12.0</td>\n",
       "      <td>14.0</td>\n",
       "      <td>16.1</td>\n",
       "      <td>18.0</td>\n",
       "      <td>20.0</td>\n",
       "    </tr>\n",
       "    <tr>\n",
       "      <th>estado_transaccion</th>\n",
       "      <td>9131.0</td>\n",
       "      <td>1.0</td>\n",
       "      <td>0.2</td>\n",
       "      <td>0.0</td>\n",
       "      <td>1.0</td>\n",
       "      <td>1.0</td>\n",
       "      <td>1.0</td>\n",
       "      <td>1.0</td>\n",
       "    </tr>\n",
       "  </tbody>\n",
       "</table>\n",
       "</div>"
      ],
      "text/plain": [
       "                     count     mean      std     min      25%      50%  \\\n",
       "monto               9131.0  17140.0  10643.4  3350.0  11329.5  15407.0   \n",
       "calificacion        9131.0      3.6      0.4     2.1      3.3      3.6   \n",
       "t_despacho          9131.0     52.0     16.9    25.0     37.6     50.2   \n",
       "t_preparacion       9131.0     16.0      2.3    12.0     14.0     16.1   \n",
       "estado_transaccion  9131.0      1.0      0.2     0.0      1.0      1.0   \n",
       "\n",
       "                        75%       max  \n",
       "monto               19066.0  159530.0  \n",
       "calificacion            3.9       4.9  \n",
       "t_despacho             64.7      90.0  \n",
       "t_preparacion          18.0      20.0  \n",
       "estado_transaccion      1.0       1.0  "
      ]
     },
     "execution_count": 8,
     "metadata": {},
     "output_type": "execute_result"
    }
   ],
   "source": [
    "# Miremos nuestros datos numéricos \n",
    "\n",
    "\n",
    "\n"
   ]
  },
  {
   "cell_type": "code",
   "execution_count": 40,
   "metadata": {
    "slideshow": {
     "slide_type": "subslide"
    }
   },
   "outputs": [],
   "source": [
    "# Creamos una figura y analicemos los tiempos \n",
    "\n",
    "\n"
   ]
  },
  {
   "cell_type": "code",
   "execution_count": 3,
   "metadata": {
    "slideshow": {
     "slide_type": "subslide"
    }
   },
   "outputs": [],
   "source": [
    "#Baseline CTQ para marzo\n",
    "\n",
    "\n"
   ]
  },
  {
   "cell_type": "code",
   "execution_count": 4,
   "metadata": {
    "slideshow": {
     "slide_type": "slide"
    }
   },
   "outputs": [],
   "source": [
    "##### Graficamos la Distribución Tiempos de orden por producto \n"
   ]
  },
  {
   "cell_type": "code",
   "execution_count": 5,
   "metadata": {
    "slideshow": {
     "slide_type": "subslide"
    }
   },
   "outputs": [],
   "source": [
    "# Blox Plot por mes \n"
   ]
  },
  {
   "cell_type": "code",
   "execution_count": 6,
   "metadata": {
    "slideshow": {
     "slide_type": "subslide"
    }
   },
   "outputs": [],
   "source": [
    "# Blox Plot por menu\n"
   ]
  },
  {
   "cell_type": "code",
   "execution_count": 7,
   "metadata": {
    "slideshow": {
     "slide_type": "subslide"
    }
   },
   "outputs": [],
   "source": [
    "# Revisemos la situación relacionada con las transacciones fallidas\n"
   ]
  },
  {
   "cell_type": "code",
   "execution_count": 8,
   "metadata": {
    "slideshow": {
     "slide_type": "subslide"
    }
   },
   "outputs": [],
   "source": [
    "# Grafiquemos gráfico de porcentajes tipo torta (pie chart) \n"
   ]
  },
  {
   "cell_type": "code",
   "execution_count": 10,
   "metadata": {
    "slideshow": {
     "slide_type": "subslide"
    }
   },
   "outputs": [],
   "source": [
    "# Veamos varias relaciones en un gráfico de dispersión - Scatter plot / Pairplot \n"
   ]
  },
  {
   "cell_type": "code",
   "execution_count": 11,
   "metadata": {
    "slideshow": {
     "slide_type": "subslide"
    }
   },
   "outputs": [],
   "source": [
    "# Analicemos la situación actual por menu\n",
    "\n"
   ]
  },
  {
   "cell_type": "code",
   "execution_count": 369,
   "metadata": {
    "slideshow": {
     "slide_type": "subslide"
    }
   },
   "outputs": [],
   "source": [
    "#Análisis de la regla de Pareto >> Creamos función para graficar\n",
    "def pareto_plot(df, x=None, y=None, title=None, show_pct_y=False, pct_format='{0:.0%}'):\n",
    "    xlabel = x\n",
    "    ylabel = y\n",
    "    tmp = df.sort_values(y, ascending=False)\n",
    "    x = tmp[x].values\n",
    "    y = tmp[y].values\n",
    "    weights = y / y.sum()\n",
    "    cumsum = weights.cumsum()\n",
    "    \n",
    "    fig, ax1 = plt.subplots()\n",
    "    ax1.bar(x, y)\n",
    "    ax1.set_xlabel(xlabel)\n",
    "    ax1.set_ylabel(ylabel)\n",
    "\n",
    "    ax2 = ax1.twinx()\n",
    "    ax2.plot(x, cumsum, '-ro', alpha=0.5)\n",
    "    ax2.set_ylabel('', color='r')\n",
    "    ax2.tick_params('y', colors='r')\n",
    "    \n",
    "    vals = ax2.get_yticks()\n",
    "    ax2.set_yticklabels(['{:,.2%}'.format(x) for x in vals])\n",
    "\n",
    "    # hide y-labels on right side\n",
    "    if not show_pct_y:\n",
    "        ax2.set_yticks([])\n",
    "    \n",
    "    formatted_weights = [pct_format.format(x) for x in cumsum]\n",
    "    for i, txt in enumerate(formatted_weights):\n",
    "        ax2.annotate(txt, (x[i], cumsum[i]), fontweight='heavy')    \n",
    "    \n",
    "    if title:\n",
    "        plt.title(title)\n",
    "    \n",
    "    plt.tight_layout()\n",
    "    plt.show()"
   ]
  },
  {
   "cell_type": "code",
   "execution_count": 12,
   "metadata": {
    "slideshow": {
     "slide_type": "subslide"
    }
   },
   "outputs": [],
   "source": [
    "#Analizamos el porcetanje de pedidos acumulados \n"
   ]
  },
  {
   "cell_type": "code",
   "execution_count": 13,
   "metadata": {
    "slideshow": {
     "slide_type": "subslide"
    }
   },
   "outputs": [],
   "source": [
    "# Analizamos el % acumulado del monto total por tipo tipo de menú\n"
   ]
  },
  {
   "cell_type": "markdown",
   "metadata": {
    "slideshow": {
     "slide_type": "slide"
    }
   },
   "source": [
    "\n",
    "\n",
    "<hr style=\"border:2px solid cadetblue\"> </hr>\n",
    "<center>\n",
    "\n",
    " # <font color=crimson> Discusión sobre la etapa de Medición</font> \n",
    " \n",
    "</center>\n",
    "<hr style=\"border:2px solid cadetblue\"> </hr> \n",
    "\n",
    "<div class=\"alert alert-block alert-info\">\n",
    "<b>Discusión Final:</b> \n",
    " \n",
    " <ul>\n",
    "   <li> ¿Está bien definido el menú de La Glotontena?\n",
    "   <li> ¿Qué muestran los tiempos de despacho? \n",
    "   <li>¿Qué hipótesis generarían para hacer una mejora en la gestión de la Glotontena? \n",
    "   <li> ¿Cómo validarían la hipótesis propuesta?\n",
    "    </ul>\n",
    "</div>\n",
    "\n"
   ]
  },
  {
   "cell_type": "markdown",
   "metadata": {
    "slideshow": {
     "slide_type": "slide"
    }
   },
   "source": [
    "\n",
    "\n",
    "<hr style=\"border:2px solid cadetblue\"> </hr>\n",
    "<center>\n",
    "\n",
    " # <font color=crimson> Gracias por su Atención </font> \n",
    " \n",
    "</center>\n",
    "<hr style=\"border:2px solid cadetblue\"> </hr> \n",
    "\n"
   ]
  }
 ],
 "metadata": {
  "celltoolbar": "Slideshow",
  "kernelspec": {
   "display_name": "Python 3",
   "language": "python",
   "name": "python3"
  },
  "language_info": {
   "codemirror_mode": {
    "name": "ipython",
    "version": 3
   },
   "file_extension": ".py",
   "mimetype": "text/x-python",
   "name": "python",
   "nbconvert_exporter": "python",
   "pygments_lexer": "ipython3",
   "version": "3.7.4"
  }
 },
 "nbformat": 4,
 "nbformat_minor": 4
}
